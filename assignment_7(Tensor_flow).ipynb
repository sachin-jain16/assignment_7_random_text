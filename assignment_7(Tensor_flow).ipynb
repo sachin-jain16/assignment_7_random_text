{
  "nbformat": 4,
  "nbformat_minor": 0,
  "metadata": {
    "colab": {
      "name": "assignment_7(Tensor flow).ipynb",
      "version": "0.3.2",
      "provenance": []
    },
    "kernelspec": {
      "name": "python3",
      "display_name": "Python 3"
    }
  },
  "cells": [
    {
      "cell_type": "code",
      "metadata": {
        "id": "3MgT5LyHmEVo",
        "colab_type": "code",
        "colab": {
          "resources": {
            "http://localhost:8080/nbextensions/google.colab/files.js": {
              "data": "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",
              "ok": true,
              "headers": [
                [
                  "content-type",
                  "application/javascript"
                ]
              ],
              "status": 200,
              "status_text": ""
            }
          },
          "base_uri": "https://localhost:8080/",
          "height": 74
        },
        "outputId": "c13e70b6-de8f-45c2-c468-4032f1f50536"
      },
      "source": [
        "from google.colab import files\n",
        "uploaded =files.upload()"
      ],
      "execution_count": 2,
      "outputs": [
        {
          "output_type": "display_data",
          "data": {
            "text/html": [
              "\n",
              "     <input type=\"file\" id=\"files-40868712-bd7b-4023-ba1a-516653bf0a34\" name=\"files[]\" multiple disabled />\n",
              "     <output id=\"result-40868712-bd7b-4023-ba1a-516653bf0a34\">\n",
              "      Upload widget is only available when the cell has been executed in the\n",
              "      current browser session. Please rerun this cell to enable.\n",
              "      </output>\n",
              "      <script src=\"/nbextensions/google.colab/files.js\"></script> "
            ],
            "text/plain": [
              "<IPython.core.display.HTML object>"
            ]
          },
          "metadata": {
            "tags": []
          }
        },
        {
          "output_type": "stream",
          "text": [
            "Saving shakespeare.txt to shakespeare.txt\n"
          ],
          "name": "stdout"
        }
      ]
    },
    {
      "cell_type": "code",
      "metadata": {
        "id": "W4n5u497mHM6",
        "colab_type": "code",
        "colab": {}
      },
      "source": [
        "import numpy as np"
      ],
      "execution_count": 0,
      "outputs": []
    },
    {
      "cell_type": "code",
      "metadata": {
        "id": "NFmwzdRDnLU-",
        "colab_type": "code",
        "colab": {}
      },
      "source": [
        "# reading text file\n",
        "document = open(\"shakespeare.txt\").read()"
      ],
      "execution_count": 0,
      "outputs": []
    },
    {
      "cell_type": "code",
      "metadata": {
        "id": "yJR6F5bcnNcZ",
        "colab_type": "code",
        "colab": {
          "base_uri": "https://localhost:8080/",
          "height": 34
        },
        "outputId": "6a441237-de64-4a3b-9ad3-8b00bc4462d6"
      },
      "source": [
        "\n",
        "t_char=set(document)\n",
        "len(t_char)\n",
        "print(\"total number of distinct characters in documnet is  : \",len(t_char))"
      ],
      "execution_count": 6,
      "outputs": [
        {
          "output_type": "stream",
          "text": [
            "total number of distinct characters in documnet is  :  67\n"
          ],
          "name": "stdout"
        }
      ]
    },
    {
      "cell_type": "code",
      "metadata": {
        "id": "Emc-Nuy6nPrp",
        "colab_type": "code",
        "colab": {
          "base_uri": "https://localhost:8080/",
          "height": 34
        },
        "outputId": "6858cb22-6738-48e6-af70-90fc31c0c40b"
      },
      "source": [
        "# converting documnet to lowercase characters\n",
        "doc = document.lower()\n",
        "char = set(doc)\n",
        "print(\"total number of character after converting character into lowercase letters is:\",len(char))"
      ],
      "execution_count": 7,
      "outputs": [
        {
          "output_type": "stream",
          "text": [
            "total number of character after converting character into lowercase letters is: 41\n"
          ],
          "name": "stdout"
        }
      ]
    },
    {
      "cell_type": "code",
      "metadata": {
        "id": "X-d-TuznnSPj",
        "colab_type": "code",
        "colab": {
          "base_uri": "https://localhost:8080/",
          "height": 714
        },
        "outputId": "cdb4475d-1835-48bf-dc7a-83d6e5e3a00a"
      },
      "source": [
        "l_char=sorted(list(char))\n",
        "l_char"
      ],
      "execution_count": 8,
      "outputs": [
        {
          "output_type": "execute_result",
          "data": {
            "text/plain": [
              "['\\n',\n",
              " ' ',\n",
              " '!',\n",
              " '$',\n",
              " '&',\n",
              " \"'\",\n",
              " ',',\n",
              " '-',\n",
              " '.',\n",
              " '3',\n",
              " ':',\n",
              " ';',\n",
              " '?',\n",
              " '[',\n",
              " ']',\n",
              " 'a',\n",
              " 'b',\n",
              " 'c',\n",
              " 'd',\n",
              " 'e',\n",
              " 'f',\n",
              " 'g',\n",
              " 'h',\n",
              " 'i',\n",
              " 'j',\n",
              " 'k',\n",
              " 'l',\n",
              " 'm',\n",
              " 'n',\n",
              " 'o',\n",
              " 'p',\n",
              " 'q',\n",
              " 'r',\n",
              " 's',\n",
              " 't',\n",
              " 'u',\n",
              " 'v',\n",
              " 'w',\n",
              " 'x',\n",
              " 'y',\n",
              " 'z']"
            ]
          },
          "metadata": {
            "tags": []
          },
          "execution_count": 8
        }
      ]
    },
    {
      "cell_type": "code",
      "metadata": {
        "id": "CDk1365enUO9",
        "colab_type": "code",
        "colab": {}
      },
      "source": [
        "#converting character to integer, making dictionary of characters\n",
        "char_to_int={}\n",
        "for i,j in enumerate(l_char):\n",
        "    char_to_int[j]=i"
      ],
      "execution_count": 0,
      "outputs": []
    },
    {
      "cell_type": "code",
      "metadata": {
        "id": "AvHBXmClnXn-",
        "colab_type": "code",
        "colab": {
          "base_uri": "https://localhost:8080/",
          "height": 34
        },
        "outputId": "9e8ccb3c-07a5-4500-e9a7-118c34132b19"
      },
      "source": [
        "len(char_to_int)"
      ],
      "execution_count": 10,
      "outputs": [
        {
          "output_type": "execute_result",
          "data": {
            "text/plain": [
              "41"
            ]
          },
          "metadata": {
            "tags": []
          },
          "execution_count": 10
        }
      ]
    },
    {
      "cell_type": "code",
      "metadata": {
        "id": "ICPbtYMwnZQ0",
        "colab_type": "code",
        "colab": {
          "base_uri": "https://localhost:8080/",
          "height": 51
        },
        "outputId": "5290de2f-bb81-43be-ecbc-4175e6b5f511"
      },
      "source": [
        "n_char=len(doc)\n",
        "print(\"total numnebr of characters in document is:\",n_char)\n",
        "n_dist_char = len(l_char)\n",
        "print(\"total number of distinct character in document:\", n_dist_char)"
      ],
      "execution_count": 11,
      "outputs": [
        {
          "output_type": "stream",
          "text": [
            "total numnebr of characters in document is: 4573338\n",
            "total number of distinct character in document: 41\n"
          ],
          "name": "stdout"
        }
      ]
    },
    {
      "cell_type": "code",
      "metadata": {
        "id": "Q4u27YFSnbaE",
        "colab_type": "code",
        "colab": {}
      },
      "source": [
        "# converting text into 2 dimensional array\n",
        "steps= 125\n",
        "x=[]\n",
        "y=[]\n",
        "for i in range (100000-steps):\n",
        "  inp = doc[i:i+steps]\n",
        "  out = doc[i+steps]\n",
        "  lst=[]\n",
        "  for i in range(steps):\n",
        "    lst.append(char_to_int[inp[i]])\n",
        "  x.append(lst)\n",
        "  y.append(char_to_int[out])\n",
        "\n",
        "    \n",
        "    \n",
        "    "
      ],
      "execution_count": 0,
      "outputs": []
    },
    {
      "cell_type": "code",
      "metadata": {
        "id": "lQcP5iheneuo",
        "colab_type": "code",
        "colab": {
          "base_uri": "https://localhost:8080/",
          "height": 51
        },
        "outputId": "b0d65c95-b8d5-4256-8983-a4a4d2f37a23"
      },
      "source": [
        "len_x = len(x)\n",
        "print(\"lenth of feedable data to RNN:\", len(x))\n",
        "print(\"step_size:\",steps)"
      ],
      "execution_count": 13,
      "outputs": [
        {
          "output_type": "stream",
          "text": [
            "lenth of feedable data to RNN: 99875\n",
            "step_size: 125\n"
          ],
          "name": "stdout"
        }
      ]
    },
    {
      "cell_type": "code",
      "metadata": {
        "id": "y7UdLYI3n4ql",
        "colab_type": "code",
        "colab": {
          "base_uri": "https://localhost:8080/",
          "height": 34
        },
        "outputId": "3fb5c0e0-79c4-4c04-8cf6-2df7b2e20fdf"
      },
      "source": [
        "import tensorflow as tf\n",
        "X=tf.one_hot(x,len(char_to_int))\n",
        "print(type(X))\n",
        "\n"
      ],
      "execution_count": 14,
      "outputs": [
        {
          "output_type": "stream",
          "text": [
            "<class 'tensorflow.python.framework.ops.Tensor'>\n"
          ],
          "name": "stdout"
        }
      ]
    },
    {
      "cell_type": "code",
      "metadata": {
        "id": "yWhxS4GJ74ry",
        "colab_type": "code",
        "colab": {
          "base_uri": "https://localhost:8080/",
          "height": 34
        },
        "outputId": "f1c287f7-bc98-4c06-e75c-49b868317e97"
      },
      "source": [
        "print(X)"
      ],
      "execution_count": 15,
      "outputs": [
        {
          "output_type": "stream",
          "text": [
            "Tensor(\"one_hot:0\", shape=(99875, 125, 41), dtype=float32)\n"
          ],
          "name": "stdout"
        }
      ]
    },
    {
      "cell_type": "code",
      "metadata": {
        "id": "RSch9h-_n77l",
        "colab_type": "code",
        "colab": {}
      },
      "source": [
        "x= np.array(x)\n",
        "train_X = (np.arange(x.max()+1) == x[...,None]-1).astype(int)"
      ],
      "execution_count": 0,
      "outputs": []
    },
    {
      "cell_type": "code",
      "metadata": {
        "id": "iGv3l-uWn-9r",
        "colab_type": "code",
        "colab": {
          "base_uri": "https://localhost:8080/",
          "height": 34
        },
        "outputId": "bba5d315-6e36-4982-fd25-7581c1f02a19"
      },
      "source": [
        "print(train_X.shape)"
      ],
      "execution_count": 17,
      "outputs": [
        {
          "output_type": "stream",
          "text": [
            "(99875, 125, 41)\n"
          ],
          "name": "stdout"
        }
      ]
    },
    {
      "cell_type": "code",
      "metadata": {
        "id": "ovslDdUyN1gq",
        "colab_type": "code",
        "colab": {
          "base_uri": "https://localhost:8080/",
          "height": 68
        },
        "outputId": "32b2922c-abb0-49de-88c9-a25ac244bfa0"
      },
      "source": [
        "\n",
        "y = np.array(y)\n",
        "print(type(y))\n",
        "print(y.shape)\n",
        "y_one_hot = np.eye(41)[y]\n",
        "print(y_one_hot.shape)"
      ],
      "execution_count": 18,
      "outputs": [
        {
          "output_type": "stream",
          "text": [
            "<class 'numpy.ndarray'>\n",
            "(99875,)\n",
            "(99875, 41)\n"
          ],
          "name": "stdout"
        }
      ]
    },
    {
      "cell_type": "code",
      "metadata": {
        "id": "fk4XHfzG8syV",
        "colab_type": "code",
        "colab": {}
      },
      "source": [
        "y_onehot= tf.one_hot(y,41)"
      ],
      "execution_count": 0,
      "outputs": []
    },
    {
      "cell_type": "code",
      "metadata": {
        "id": "DkaMVeZyO7-e",
        "colab_type": "code",
        "colab": {
          "base_uri": "https://localhost:8080/",
          "height": 34
        },
        "outputId": "bd445561-65a9-4ff3-eeaf-f6a3989c37f4"
      },
      "source": [
        "print(y_onehot)\n",
        "steps= 125\n",
        "n_neurons = 150\n",
        "n_outputs = len(char)"
      ],
      "execution_count": 20,
      "outputs": [
        {
          "output_type": "stream",
          "text": [
            "Tensor(\"one_hot_1:0\", shape=(99875, 41), dtype=float32)\n"
          ],
          "name": "stdout"
        }
      ]
    },
    {
      "cell_type": "code",
      "metadata": {
        "id": "De_6Bo9AoB74",
        "colab_type": "code",
        "colab": {}
      },
      "source": [
        "import tensorflow as tf\n",
        "X = tf.placeholder(dtype=tf.float32, shape=[None, steps, 41],name = \"X\")\n",
        "Y = tf.placeholder(tf.float32, [None,41], name= \"Y\")\n",
        "\n"
      ],
      "execution_count": 0,
      "outputs": []
    },
    {
      "cell_type": "code",
      "metadata": {
        "id": "AQNcx1M0VXmg",
        "colab_type": "code",
        "colab": {}
      },
      "source": [
        ""
      ],
      "execution_count": 0,
      "outputs": []
    },
    {
      "cell_type": "code",
      "metadata": {
        "id": "w8MvMfvqPUbv",
        "colab_type": "code",
        "colab": {
          "base_uri": "https://localhost:8080/",
          "height": 258
        },
        "outputId": "eb075330-05d1-4728-bfb0-071cb897acf9"
      },
      "source": [
        "# defining rnn cell\n",
        "from tensorflow.contrib.layers import fully_connected\n",
        "basic_cell = tf.contrib.rnn.BasicRNNCell(num_units=n_neurons)\n",
        "outputs, states = tf.nn.dynamic_rnn(basic_cell, X, dtype=tf.float32)\n",
        "#print(outputs)\n",
        "#rint(states)\n"
      ],
      "execution_count": 22,
      "outputs": [
        {
          "output_type": "stream",
          "text": [
            "WARNING: Logging before flag parsing goes to stderr.\n",
            "W0704 08:41:18.152283 140045698836352 deprecation.py:323] From <ipython-input-22-e85f20bda27d>:3: BasicRNNCell.__init__ (from tensorflow.python.ops.rnn_cell_impl) is deprecated and will be removed in a future version.\n",
            "Instructions for updating:\n",
            "This class is equivalent as tf.keras.layers.SimpleRNNCell, and will be replaced by that in Tensorflow 2.0.\n",
            "W0704 08:41:18.154759 140045698836352 deprecation.py:323] From <ipython-input-22-e85f20bda27d>:4: dynamic_rnn (from tensorflow.python.ops.rnn) is deprecated and will be removed in a future version.\n",
            "Instructions for updating:\n",
            "Please use `keras.layers.RNN(cell)`, which is equivalent to this API\n",
            "W0704 08:41:18.382816 140045698836352 deprecation.py:506] From /usr/local/lib/python3.6/dist-packages/tensorflow/python/ops/init_ops.py:1251: calling VarianceScaling.__init__ (from tensorflow.python.ops.init_ops) with dtype is deprecated and will be removed in a future version.\n",
            "Instructions for updating:\n",
            "Call initializer instance with the dtype argument instead of passing it to the constructor\n",
            "W0704 08:41:18.395953 140045698836352 deprecation.py:506] From /usr/local/lib/python3.6/dist-packages/tensorflow/python/ops/rnn_cell_impl.py:459: calling Zeros.__init__ (from tensorflow.python.ops.init_ops) with dtype is deprecated and will be removed in a future version.\n",
            "Instructions for updating:\n",
            "Call initializer instance with the dtype argument instead of passing it to the constructor\n"
          ],
          "name": "stderr"
        }
      ]
    },
    {
      "cell_type": "code",
      "metadata": {
        "id": "GYhIWf55U0ct",
        "colab_type": "code",
        "colab": {
          "base_uri": "https://localhost:8080/",
          "height": 51
        },
        "outputId": "cb1bea07-e44c-4ddc-a486-1919a6aea83e"
      },
      "source": [
        "print(outputs)\n",
        "print(states)"
      ],
      "execution_count": 23,
      "outputs": [
        {
          "output_type": "stream",
          "text": [
            "Tensor(\"rnn/transpose_1:0\", shape=(?, 125, 256), dtype=float32)\n",
            "Tensor(\"rnn/while/Exit_3:0\", shape=(?, 256), dtype=float32)\n"
          ],
          "name": "stdout"
        }
      ]
    },
    {
      "cell_type": "code",
      "metadata": {
        "id": "9OfJBzVLQVYK",
        "colab_type": "code",
        "colab": {
          "base_uri": "https://localhost:8080/",
          "height": 34
        },
        "outputId": "376a1136-3f69-42cc-ae7d-8a72cc8ecad1"
      },
      "source": [
        "logits = fully_connected(states, n_outputs, activation_fn=None)\n",
        "print(logits)\n",
        "\n"
      ],
      "execution_count": 24,
      "outputs": [
        {
          "output_type": "stream",
          "text": [
            "Tensor(\"fully_connected/BiasAdd:0\", shape=(?, 41), dtype=float32)\n"
          ],
          "name": "stdout"
        }
      ]
    },
    {
      "cell_type": "code",
      "metadata": {
        "id": "w4BLpu8UYdby",
        "colab_type": "code",
        "colab": {
          "base_uri": "https://localhost:8080/",
          "height": 173
        },
        "outputId": "bb21b860-5859-48c9-82be-2c3d25ba7ce9"
      },
      "source": [
        "xentropy = tf.nn.softmax_cross_entropy_with_logits(labels=Y, logits=logits)"
      ],
      "execution_count": 25,
      "outputs": [
        {
          "output_type": "stream",
          "text": [
            "W0704 08:41:18.915885 140045698836352 deprecation.py:323] From <ipython-input-25-1ed2ec414530>:1: softmax_cross_entropy_with_logits (from tensorflow.python.ops.nn_ops) is deprecated and will be removed in a future version.\n",
            "Instructions for updating:\n",
            "\n",
            "Future major versions of TensorFlow will allow gradients to flow\n",
            "into the labels input on backprop by default.\n",
            "\n",
            "See `tf.nn.softmax_cross_entropy_with_logits_v2`.\n",
            "\n"
          ],
          "name": "stderr"
        }
      ]
    },
    {
      "cell_type": "code",
      "metadata": {
        "id": "Mp6qWrXbgXGC",
        "colab_type": "code",
        "colab": {}
      },
      "source": [
        "# loss minimization\n",
        "learning_rate=0.01\n",
        "loss = tf.reduce_mean(xentropy)\n",
        "optimizer = tf.train.AdamOptimizer(learning_rate=learning_rate)\n",
        "training_op = optimizer.minimize(loss)\n",
        "#correct = tf.nn.in_top_k(logits, Y, 1)\n",
        "#accuracy = tf.reduce_mean(tf.cast(correct, tf.float32))"
      ],
      "execution_count": 0,
      "outputs": []
    },
    {
      "cell_type": "code",
      "metadata": {
        "id": "P_dkGyflg31M",
        "colab_type": "code",
        "colab": {}
      },
      "source": [
        "init = tf.global_variables_initializer()"
      ],
      "execution_count": 0,
      "outputs": []
    },
    {
      "cell_type": "code",
      "metadata": {
        "id": "jWoKJsDOhFUB",
        "colab_type": "code",
        "colab": {}
      },
      "source": [
        "batch_size = 128\n"
      ],
      "execution_count": 0,
      "outputs": []
    },
    {
      "cell_type": "code",
      "metadata": {
        "id": "R54IOnwziV8m",
        "colab_type": "code",
        "colab": {
          "base_uri": "https://localhost:8080/",
          "height": 34
        },
        "outputId": "41f9545c-6b3b-4063-e951-66fb0e5b575f"
      },
      "source": [
        "m  =int(len_x/128)\n",
        "m"
      ],
      "execution_count": 29,
      "outputs": [
        {
          "output_type": "execute_result",
          "data": {
            "text/plain": [
              "780"
            ]
          },
          "metadata": {
            "tags": []
          },
          "execution_count": 29
        }
      ]
    },
    {
      "cell_type": "code",
      "metadata": {
        "id": "oSHk_BRxqXY-",
        "colab_type": "code",
        "colab": {}
      },
      "source": [
        ""
      ],
      "execution_count": 0,
      "outputs": []
    },
    {
      "cell_type": "markdown",
      "metadata": {
        "id": "qrncbURjqZh-",
        "colab_type": "text"
      },
      "source": [
        "**Building** **Model**"
      ]
    },
    {
      "cell_type": "code",
      "metadata": {
        "id": "yRZ-p_y4iqsR",
        "colab_type": "code",
        "colab": {
          "base_uri": "https://localhost:8080/",
          "height": 187
        },
        "outputId": "6d01e71e-9a2f-46a8-9c25-bd8428f69c6f"
      },
      "source": [
        "#building the RNN model\n",
        "epoch  = 10\n",
        "loss_value = 99999\n",
        "with tf.Session() as sess:\n",
        "    saver = tf.train.Saver()\n",
        "    sess.run(init)\n",
        "    for i in range(epoch):\n",
        "      for batch in range(m):\n",
        "          x_batch = train_X[batch*batch_size:min((batch+1)*batch_size, len_x)]\n",
        "          y_batch = y_one_hot[batch*batch_size:min((batch+1)*batch_size, len_x)]\n",
        "          _,los_cal = sess.run([training_op,loss],feed_dict={X:x_batch,Y:y_batch})\n",
        "          \n",
        "          \n",
        "      if los_cal<loss_value:\n",
        "          saver.save(sess,\"result\")\n",
        "          loss_value = los_cal\n",
        "      print(\"epoch \" + str(i+1) + \", Loss= \" + \"{:.6f}\".format(los_cal) )   \n",
        "    \n",
        "    \n",
        "    \n",
        "    "
      ],
      "execution_count": 43,
      "outputs": [
        {
          "output_type": "stream",
          "text": [
            "epoch 1, Loss= 2.974978\n",
            "epoch 2, Loss= 2.711518\n",
            "epoch 3, Loss= 2.678522\n",
            "epoch 4, Loss= 2.705904\n",
            "epoch 5, Loss= 2.669420\n",
            "epoch 6, Loss= 2.669443\n",
            "epoch 7, Loss= 2.688489\n",
            "epoch 8, Loss= 2.698829\n",
            "epoch 9, Loss= 2.670262\n",
            "epoch 10, Loss= 2.869717\n"
          ],
          "name": "stdout"
        }
      ]
    },
    {
      "cell_type": "code",
      "metadata": {
        "id": "GBqRmq0vnwcU",
        "colab_type": "code",
        "colab": {}
      },
      "source": [
        "\n"
      ],
      "execution_count": 0,
      "outputs": []
    },
    {
      "cell_type": "code",
      "metadata": {
        "id": "-io09FM1q8u8",
        "colab_type": "code",
        "colab": {}
      },
      "source": [
        ""
      ],
      "execution_count": 0,
      "outputs": []
    },
    {
      "cell_type": "markdown",
      "metadata": {
        "id": "GT9Jrvu2rEaA",
        "colab_type": "text"
      },
      "source": [
        "**Generating the text using RNN Model**"
      ]
    },
    {
      "cell_type": "code",
      "metadata": {
        "id": "apsgEnvIqnLz",
        "colab_type": "code",
        "colab": {
          "base_uri": "https://localhost:8080/",
          "height": 34
        },
        "outputId": "7f05f912-e07e-4788-e6fd-2c1bb5f8c143"
      },
      "source": [
        "a = np.random.randint(1,100000)\n",
        "\n",
        "a"
      ],
      "execution_count": 162,
      "outputs": [
        {
          "output_type": "execute_result",
          "data": {
            "text/plain": [
              "61363"
            ]
          },
          "metadata": {
            "tags": []
          },
          "execution_count": 162
        }
      ]
    },
    {
      "cell_type": "code",
      "metadata": {
        "id": "0yS7qzsqpYoo",
        "colab_type": "code",
        "colab": {}
      },
      "source": [
        "x_test = train_X[a]\n"
      ],
      "execution_count": 0,
      "outputs": []
    },
    {
      "cell_type": "code",
      "metadata": {
        "id": "Kfzk7CN32zg7",
        "colab_type": "code",
        "colab": {}
      },
      "source": [
        "lst1 = list(x_test)\n",
        "str= \"\""
      ],
      "execution_count": 0,
      "outputs": []
    },
    {
      "cell_type": "code",
      "metadata": {
        "id": "g7eZC00de1YW",
        "colab_type": "code",
        "colab": {}
      },
      "source": [
        "def softmax(inputs):\n",
        "    return np.exp(inputs) / float(sum(np.exp(inputs)))"
      ],
      "execution_count": 0,
      "outputs": []
    },
    {
      "cell_type": "code",
      "metadata": {
        "id": "JFFTLIrFfkj1",
        "colab_type": "code",
        "colab": {}
      },
      "source": [
        "int_to_char={}\n",
        "for i,j in enumerate(l_char):\n",
        "    int_to_char[i]=j\n",
        "output =[]\n"
      ],
      "execution_count": 0,
      "outputs": []
    },
    {
      "cell_type": "code",
      "metadata": {
        "id": "WVmBPlBBrZRp",
        "colab_type": "code",
        "colab": {}
      },
      "source": [
        ""
      ],
      "execution_count": 0,
      "outputs": []
    },
    {
      "cell_type": "markdown",
      "metadata": {
        "id": "PoFBAptIraVw",
        "colab_type": "text"
      },
      "source": [
        "**Running the code using pretrained weight of the model, which has minimum loss**"
      ]
    },
    {
      "cell_type": "code",
      "metadata": {
        "id": "5Cj-cSy7bXY-",
        "colab_type": "code",
        "colab": {}
      },
      "source": [
        "saver = tf.train.Saver()\n",
        "sess = tf.Session()\n",
        "saver.restore(sess,\"result\")\n",
        "for i in range(500):\n",
        "  x_test_feed = x_test.reshape(1,125,41)\n",
        "  logit = sess.run(logits,feed_dict={X:x_test_feed})\n",
        "  output_softmax =softmax(logit[0])\n",
        "  ch = np.argmax(output_softmax)\n",
        "  output.append(ch)\n",
        "  str=str + (int_to_char[ch])\n",
        "  new_ch = np.eye(41)[ch]\n",
        "  lst1.append(new_ch)\n",
        "  x_test = np.array(lst1)\n",
        "  x_test = x_test[i+1:]\n",
        "#print(str)\n",
        "#print(output)\n",
        "  \n",
        "  \n",
        "  \n",
        "  "
      ],
      "execution_count": 0,
      "outputs": []
    },
    {
      "cell_type": "code",
      "metadata": {
        "id": "XE_Zboi9ipFR",
        "colab_type": "code",
        "colab": {
          "base_uri": "https://localhost:8080/",
          "height": 54
        },
        "outputId": "376da125-0d8e-470b-9bb6-f6accea87555"
      },
      "source": [
        "print(output)"
      ],
      "execution_count": 160,
      "outputs": [
        {
          "output_type": "stream",
          "text": [
            "[19, 1, 0, 34, 32, 1, 0, 34, 32, 1, 0, 34, 32, 1, 0, 34, 32, 1, 0, 34, 32, 1, 0, 34, 32, 1, 0, 34, 32, 1, 0, 34, 32, 1, 0, 34, 32, 1, 0, 34, 32, 1, 0, 34, 32, 1, 0, 34, 32, 1, 0, 34, 32, 1, 0, 34, 32, 1, 0, 34, 32, 1, 0, 34, 32, 1, 0, 34, 32, 1, 0, 34, 32, 1, 0, 34, 32, 1, 0, 34, 32, 1, 0, 34, 32, 1, 0, 34, 32, 1, 0, 34, 32, 1, 0, 34, 32, 1, 0, 34, 32, 1, 0, 34, 32, 1, 0, 34, 32, 1, 0, 34, 32, 1, 0, 34, 32, 1, 0, 34, 32, 1, 0, 34, 32, 1, 0, 34, 32, 1, 0, 34, 32, 1, 0, 34, 32, 1, 0, 34, 32, 1, 0, 34, 32, 1, 0, 34, 32, 1, 0, 34, 32, 1, 0, 34, 32, 1, 0, 34, 32, 1, 0, 34, 32, 1, 0, 34, 32, 1, 0, 34, 32, 1, 0, 34, 32, 1, 0, 34, 32, 1, 0, 34, 32, 1, 0, 34, 32, 1, 0, 34, 32, 1, 0, 34, 32, 1, 0, 34, 32, 1, 0, 34, 32, 1, 0, 34, 32, 1, 0, 34, 32, 1, 0, 34, 32, 1, 0, 34, 32, 1, 0, 34, 32, 1, 0, 34, 32, 1, 0, 34, 32, 1, 0, 34, 32, 1, 0, 34, 32, 1, 0, 34, 32, 1, 0, 34, 32, 1, 0, 34, 32, 1, 0, 34, 32, 1, 0, 34, 32, 1, 0, 34, 32, 1, 0, 34, 32, 1, 0, 34, 32, 1, 0, 34, 32, 1, 0, 34, 32, 1, 0, 34, 32, 1, 0, 34, 32, 1, 0, 34, 32, 1, 0, 34, 32, 1, 0, 34, 32, 1, 0, 34, 32, 1, 0, 34, 32, 1, 0, 34, 32, 1, 0, 34, 32, 1, 0, 34, 32, 1, 0, 34, 32, 1, 0, 34, 32, 1, 0, 34, 32, 1, 0, 34, 32, 1, 0, 34, 32, 1, 0, 34, 32, 1, 0, 34, 32, 1, 0, 34, 32, 1, 0, 34, 32, 1, 0, 34, 32, 1, 0, 34, 32, 1, 0, 34, 32, 1, 0, 34, 32, 1, 0, 34, 32, 1, 0, 34, 32, 1, 0, 34, 32, 1, 0, 34, 32, 1, 0, 34, 32, 1, 0, 34, 32, 1, 0, 34, 32, 1, 0, 34, 32, 1, 0, 34, 32, 1, 0, 34, 32, 1, 0, 34, 32, 1, 0, 34, 32, 1, 0, 34, 32, 1, 0, 34, 32, 1, 0, 34, 32, 1, 0, 34, 32, 1, 0, 34, 32, 1, 0, 34, 32, 1, 0, 34, 32, 1, 0, 34, 32, 1, 0, 34, 32, 1, 0, 34, 32, 1, 0, 34, 32, 1, 0, 34, 32, 1, 0, 34, 32, 1, 0, 34, 32, 1, 0, 34, 32, 1, 0, 34, 32, 1, 0, 34, 32, 1, 0, 34, 32, 1, 0, 34, 32, 1, 0, 34]\n"
          ],
          "name": "stdout"
        }
      ]
    },
    {
      "cell_type": "code",
      "metadata": {
        "id": "4OemCs5ok3c4",
        "colab_type": "code",
        "colab": {
          "base_uri": "https://localhost:8080/",
          "height": 1000
        },
        "outputId": "7a1cbbce-9bfc-4639-96ff-b0e9b83d0592"
      },
      "source": [
        "import sys\n",
        "for i in range(500):\n",
        "  sys.stdout.write(int_to_char[output[i]])"
      ],
      "execution_count": 161,
      "outputs": [
        {
          "output_type": "stream",
          "text": [
            "e \n",
            "tr \n",
            "tr \n",
            "tr \n",
            "tr \n",
            "tr \n",
            "tr \n",
            "tr \n",
            "tr \n",
            "tr \n",
            "tr \n",
            "tr \n",
            "tr \n",
            "tr \n",
            "tr \n",
            "tr \n",
            "tr \n",
            "tr \n",
            "tr \n",
            "tr \n",
            "tr \n",
            "tr \n",
            "tr \n",
            "tr \n",
            "tr \n",
            "tr \n",
            "tr \n",
            "tr \n",
            "tr \n",
            "tr \n",
            "tr \n",
            "tr \n",
            "tr \n",
            "tr \n",
            "tr \n",
            "tr \n",
            "tr \n",
            "tr \n",
            "tr \n",
            "tr \n",
            "tr \n",
            "tr \n",
            "tr \n",
            "tr \n",
            "tr \n",
            "tr \n",
            "tr \n",
            "tr \n",
            "tr \n",
            "tr \n",
            "tr \n",
            "tr \n",
            "tr \n",
            "tr \n",
            "tr \n",
            "tr \n",
            "tr \n",
            "tr \n",
            "tr \n",
            "tr \n",
            "tr \n",
            "tr \n",
            "tr \n",
            "tr \n",
            "tr \n",
            "tr \n",
            "tr \n",
            "tr \n",
            "tr \n",
            "tr \n",
            "tr \n",
            "tr \n",
            "tr \n",
            "tr \n",
            "tr \n",
            "tr \n",
            "tr \n",
            "tr \n",
            "tr \n",
            "tr \n",
            "tr \n",
            "tr \n",
            "tr \n",
            "tr \n",
            "tr \n",
            "tr \n",
            "tr \n",
            "tr \n",
            "tr \n",
            "tr \n",
            "tr \n",
            "tr \n",
            "tr \n",
            "tr \n",
            "tr \n",
            "tr \n",
            "tr \n",
            "tr \n",
            "tr \n",
            "tr \n",
            "tr \n",
            "tr \n",
            "tr \n",
            "tr \n",
            "tr \n",
            "tr \n",
            "tr \n",
            "tr \n",
            "tr \n",
            "tr \n",
            "tr \n",
            "tr \n",
            "tr \n",
            "tr \n",
            "tr \n",
            "tr \n",
            "tr \n",
            "tr \n",
            "tr \n",
            "tr \n",
            "tr \n",
            "tr \n",
            "tr \n",
            "tr \n",
            "tr \n",
            "t"
          ],
          "name": "stdout"
        }
      ]
    },
    {
      "cell_type": "code",
      "metadata": {
        "id": "yVxrlNMMpX06",
        "colab_type": "code",
        "colab": {}
      },
      "source": [
        ""
      ],
      "execution_count": 0,
      "outputs": []
    }
  ]
}